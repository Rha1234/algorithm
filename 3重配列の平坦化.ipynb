{
 "cells": [
  {
   "cell_type": "code",
   "execution_count": 1,
   "metadata": {},
   "outputs": [],
   "source": [
    "import time\n",
    "def start_time():\n",
    "    start = time.time()\n",
    "    print('スタート:', start)\n",
    "    return start\n",
    "    \n",
    "def end_time():\n",
    "    end = time.time()\n",
    "    print('エンド:', end)\n",
    "    return end\n",
    "\n",
    "def required_time(start, end):\n",
    "    time_delta = end - start\n",
    "    print('時間差分:', time_delta)"
   ]
  },
  {
   "cell_type": "code",
   "execution_count": 3,
   "metadata": {},
   "outputs": [],
   "source": [
    "seq = [1, [2, 3], [4, 5, [6, 7, 8], 9], [10]]"
   ]
  },
  {
   "cell_type": "raw",
   "metadata": {},
   "source": [
    "配列の要素を取り出す\n",
    "配列じゃなかったら(普通のintだったら)そのまま戻す\n",
    "もし配列だったら、配列を引数にもう一度この関数を呼び出す\n"
   ]
  },
  {
   "cell_type": "code",
   "execution_count": null,
   "metadata": {},
   "outputs": [],
   "source": []
  },
  {
   "cell_type": "code",
   "execution_count": null,
   "metadata": {},
   "outputs": [],
   "source": []
  },
  {
   "cell_type": "code",
   "execution_count": null,
   "metadata": {},
   "outputs": [],
   "source": []
  },
  {
   "cell_type": "code",
   "execution_count": 4,
   "metadata": {},
   "outputs": [],
   "source": [
    "seq1 = [1, 2, 3, 4, 5]"
   ]
  },
  {
   "cell_type": "code",
   "execution_count": 5,
   "metadata": {},
   "outputs": [],
   "source": [
    "def test_generator(l):\n",
    "    for el in l:\n",
    "        yield el*2"
   ]
  },
  {
   "cell_type": "code",
   "execution_count": 7,
   "metadata": {},
   "outputs": [
    {
     "name": "stdout",
     "output_type": "stream",
     "text": [
      "<class 'generator'>\n"
     ]
    }
   ],
   "source": [
    "ret = type(test_generator(seq1))\n",
    "print(ret)"
   ]
  },
  {
   "cell_type": "code",
   "execution_count": 8,
   "metadata": {},
   "outputs": [],
   "source": [
    "gene_test = (s for s in seq1)"
   ]
  },
  {
   "cell_type": "code",
   "execution_count": 9,
   "metadata": {},
   "outputs": [
    {
     "data": {
      "text/plain": [
       "<generator object <genexpr> at 0x10a79e200>"
      ]
     },
     "execution_count": 9,
     "metadata": {},
     "output_type": "execute_result"
    }
   ],
   "source": []
  },
  {
   "cell_type": "markdown",
   "metadata": {},
   "source": [
    "## ジェネレータテスト"
   ]
  },
  {
   "cell_type": "code",
   "execution_count": 10,
   "metadata": {},
   "outputs": [],
   "source": [
    "import collections\n",
    "\n",
    "def flatten(l):\n",
    "    for el in l:\n",
    "        if isinstance(el, collections.abc.Iterable) and not isinstance(el, (str, bytes)):\n",
    "            yield from flatten(el)\n",
    "        else:\n",
    "            yield el"
   ]
  },
  {
   "cell_type": "code",
   "execution_count": 11,
   "metadata": {},
   "outputs": [
    {
     "data": {
      "text/plain": [
       "[1, 2, 3, 4, 5, 6, 7, 8, 9, 10]"
      ]
     },
     "execution_count": 11,
     "metadata": {},
     "output_type": "execute_result"
    }
   ],
   "source": [
    "list(flatten(seq))"
   ]
  },
  {
   "cell_type": "code",
   "execution_count": 5,
   "metadata": {},
   "outputs": [
    {
     "name": "stdout",
     "output_type": "stream",
     "text": [
      "1\n",
      "2\n",
      "3\n",
      "4\n",
      "finished\n",
      "hello\n"
     ]
    }
   ],
   "source": [
    "def sample_geniter():\n",
    "    yield from [1, 2, 3, 4]\n",
    "    print('finished')\n",
    "\n",
    "for num in sample_geniter():\n",
    "    print(num)\n",
    "\n",
    "print('hello')"
   ]
  },
  {
   "cell_type": "code",
   "execution_count": 6,
   "metadata": {},
   "outputs": [
    {
     "name": "stdout",
     "output_type": "stream",
     "text": [
      "1\n",
      "2\n",
      "3\n",
      "5\n",
      "finish\n"
     ]
    }
   ],
   "source": [
    "def test(l):\n",
    "    yield from l\n",
    "    print('finish')\n",
    "\n",
    "for el in test([1,2,3,5]):\n",
    "    print(el)"
   ]
  },
  {
   "cell_type": "markdown",
   "metadata": {},
   "source": [
    "## 一次元配列を与えたらすべての要素を奇数になるまで割り算する"
   ]
  },
  {
   "cell_type": "code",
   "execution_count": 7,
   "metadata": {},
   "outputs": [],
   "source": [
    "seq = [1, 2, 3, 4, 5, 6, 7, 8, 9, 10, 11, 12]"
   ]
  },
  {
   "cell_type": "markdown",
   "metadata": {},
   "source": [
    "### ジェネレータで実装"
   ]
  },
  {
   "cell_type": "code",
   "execution_count": 28,
   "metadata": {},
   "outputs": [],
   "source": [
    "from typing import *\n",
    "\n",
    "def divine_number(l: List[int]):\n",
    "    for el in l:\n",
    "        while el % 2 == 0:\n",
    "            el = el // 2\n",
    "        yield el"
   ]
  },
  {
   "cell_type": "code",
   "execution_count": 29,
   "metadata": {},
   "outputs": [
    {
     "name": "stdout",
     "output_type": "stream",
     "text": [
      "スタート: 1608248709.398744\n",
      "[1, 1, 3, 1, 5, 3, 7, 1, 9, 5, 11, 3]\n",
      "エンド: 1608248709.3994071\n",
      "時間差分: 0.0006630420684814453\n"
     ]
    }
   ],
   "source": [
    "start = start_time()\n",
    "\n",
    "print(list(divine_number(seq)))\n",
    "\n",
    "end = end_time()\n",
    "required_time(start,end)"
   ]
  },
  {
   "cell_type": "markdown",
   "metadata": {},
   "source": [
    "## 普通に実装"
   ]
  },
  {
   "cell_type": "code",
   "execution_count": 30,
   "metadata": {},
   "outputs": [],
   "source": [
    "def divine_number_normal(l: List[int], l2: List[int]):\n",
    "    for el in l:\n",
    "        while el % 2 == 0:\n",
    "            el = el // 2\n",
    "        l2.append(el)"
   ]
  },
  {
   "cell_type": "code",
   "execution_count": 31,
   "metadata": {},
   "outputs": [
    {
     "name": "stdout",
     "output_type": "stream",
     "text": [
      "スタート: 1608248712.2374232\n",
      "エンド: 1608248712.237903\n",
      "[1, 1, 3, 1, 5, 3, 7, 1, 9, 5, 11, 3]\n",
      "時間差分: 0.0004799365997314453\n"
     ]
    }
   ],
   "source": [
    "seq2 = [1, 2, 3, 4, 5, 6, 7, 8, 9, 10, 11, 12]\n",
    "l2 = []\n",
    "\n",
    "start = start_time()\n",
    "\n",
    "divine_number_normal(seq2, l2)\n",
    "\n",
    "end = end_time()\n",
    "\n",
    "print(l2)\n",
    "\n",
    "required_time(start,end)"
   ]
  },
  {
   "cell_type": "code",
   "execution_count": null,
   "metadata": {},
   "outputs": [],
   "source": []
  }
 ],
 "metadata": {
  "kernelspec": {
   "display_name": "Python 3",
   "language": "python",
   "name": "python3"
  },
  "language_info": {
   "codemirror_mode": {
    "name": "ipython",
    "version": 3
   },
   "file_extension": ".py",
   "mimetype": "text/x-python",
   "name": "python",
   "nbconvert_exporter": "python",
   "pygments_lexer": "ipython3",
   "version": "3.8.5"
  }
 },
 "nbformat": 4,
 "nbformat_minor": 4
}
