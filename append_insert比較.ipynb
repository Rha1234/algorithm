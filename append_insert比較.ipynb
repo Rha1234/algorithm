{
 "cells": [
  {
   "cell_type": "code",
   "execution_count": 10,
   "metadata": {},
   "outputs": [],
   "source": [
    "def start_time():\n",
    "    start = time.time()\n",
    "    print('スタート:', start)\n",
    "    return start\n",
    "    \n",
    "def end_time():\n",
    "    end = time.time()\n",
    "    print('エンド:', end)\n",
    "    return end\n",
    "\n",
    "def required_time(start, end):\n",
    "    time_delta = end - start\n",
    "    print('時間差分:', time_delta)"
   ]
  },
  {
   "cell_type": "code",
   "execution_count": 25,
   "metadata": {},
   "outputs": [
    {
     "name": "stdout",
     "output_type": "stream",
     "text": [
      "スタート: 1608101351.9055161\n",
      "エンド: 1608101351.918234\n",
      "時間差分: 0.012717962265014648\n",
      "[99999, 99998, 99997, 99996, 99995]\n"
     ]
    }
   ],
   "source": [
    "import time\n",
    "\n",
    "N = 10**5\n",
    "count = []\n",
    "\n",
    "## 開始\n",
    "start = start_time()\n",
    "\n",
    "for n in range(N):\n",
    "    count.append(n)\n",
    "\n",
    "count.reverse()\n",
    "\n",
    "## 終了・かかった時間\n",
    "end = end_time()\n",
    "required_time(start, end)\n",
    "\n",
    "## リストの確認\n",
    "print(count[:5])"
   ]
  },
  {
   "cell_type": "code",
   "execution_count": 26,
   "metadata": {},
   "outputs": [
    {
     "name": "stdout",
     "output_type": "stream",
     "text": [
      "スタート: 1608101352.825435\n",
      "エンド: 1608101355.485058\n",
      "時間差分: 2.659623146057129\n",
      "[99999, 99998, 99997, 99996, 99995]\n"
     ]
    }
   ],
   "source": [
    "import time\n",
    "\n",
    "N = 10**5\n",
    "count = []\n",
    "\n",
    "start = start_time()\n",
    "\n",
    "for n in range(N):\n",
    "    count.insert(0,n)\n",
    "\n",
    "end = end_time()\n",
    "required_time(start, end)\n",
    "\n",
    "print(count[:5])"
   ]
  },
  {
   "cell_type": "code",
   "execution_count": null,
   "metadata": {},
   "outputs": [],
   "source": []
  }
 ],
 "metadata": {
  "kernelspec": {
   "display_name": "Python 3",
   "language": "python",
   "name": "python3"
  },
  "language_info": {
   "codemirror_mode": {
    "name": "ipython",
    "version": 3
   },
   "file_extension": ".py",
   "mimetype": "text/x-python",
   "name": "python",
   "nbconvert_exporter": "python",
   "pygments_lexer": "ipython3",
   "version": "3.8.5"
  }
 },
 "nbformat": 4,
 "nbformat_minor": 4
}
