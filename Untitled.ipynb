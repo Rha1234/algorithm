{
 "cells": [
  {
   "cell_type": "code",
   "execution_count": 3,
   "metadata": {},
   "outputs": [],
   "source": [
    "import time\n",
    "def start_time():\n",
    "    start = time.time()\n",
    "    print('スタート:', start)\n",
    "    return start\n",
    "    \n",
    "def end_time():\n",
    "    end = time.time()\n",
    "    print('エンド:', end)\n",
    "    return end\n",
    "\n",
    "def required_time(start, end):\n",
    "    time_delta = end - start\n",
    "    print('時間差分:', time_delta)"
   ]
  },
  {
   "cell_type": "code",
   "execution_count": 5,
   "metadata": {},
   "outputs": [
    {
     "name": "stdin",
     "output_type": "stream",
     "text": [
      " 5 3\n",
      " 1 2 2 4 5\n"
     ]
    },
    {
     "name": "stdout",
     "output_type": "stream",
     "text": [
      "スタート: 1608772419.063933\n",
      "7.0\n",
      "エンド: 1608772419.0642822\n",
      "時間差分: 0.00034928321838378906\n"
     ]
    }
   ],
   "source": [
    "N, K = map(int, input().split())\n",
    "p = list(map(int, input().split()))\n",
    "\n",
    "start = start_time()\n",
    "\n",
    "sum_p = 0\n",
    "for i in range(N-K+1):\n",
    "    if sum(p[i:i+K]) > sum_p:\n",
    "        L = p[i:i+K]\n",
    "        sum_p = sum(p[i:i+K])\n",
    "print(sum([l*(1+l)/2/l for l in L]))\n",
    "\n",
    "end = end_time()\n",
    "required_time(start,end)"
   ]
  },
  {
   "cell_type": "code",
   "execution_count": 46,
   "metadata": {},
   "outputs": [
    {
     "name": "stdin",
     "output_type": "stream",
     "text": [
      " 5 3\n",
      " 1 2 2 4 5\n"
     ]
    },
    {
     "name": "stdout",
     "output_type": "stream",
     "text": [
      "スタート: 1608775629.801451\n",
      "0 [1, 2, 2]\n",
      "0\n",
      "1 [2, 2, 4]\n",
      "1\n",
      "7.0\n",
      "エンド: 1608775629.801919\n",
      "時間差分: 0.0004680156707763672\n"
     ]
    }
   ],
   "source": [
    "N, K = map(int, input().split())\n",
    "P = list(map(int, input().split()))\n",
    "\n",
    "sum_p = sum(P[:K])\n",
    "cur = 0\n",
    "\n",
    "for i in range(N-K):\n",
    "    print(i,P[i:i+K])\n",
    "    print(cur)\n",
    "    if (sum_p - P[i] + P[i+K]) > sum_p:\n",
    "        cur = i+1\n",
    "        sum_p = (sum_p - P[i] + P[i+K])\n",
    "        \n",
    "print(sum([(1+l)/2 for l in P[cur:cur+K]]))\n"
   ]
  },
  {
   "cell_type": "code",
   "execution_count": 7,
   "metadata": {},
   "outputs": [
    {
     "data": {
      "text/plain": [
       "2.5"
      ]
     },
     "execution_count": 7,
     "metadata": {},
     "output_type": "execute_result"
    }
   ],
   "source": [
    "(1+2+3+4)/4"
   ]
  },
  {
   "cell_type": "code",
   "execution_count": 8,
   "metadata": {},
   "outputs": [
    {
     "data": {
      "text/plain": [
       "2.5"
      ]
     },
     "execution_count": 8,
     "metadata": {},
     "output_type": "execute_result"
    }
   ],
   "source": [
    "(1+4)/2"
   ]
  },
  {
   "cell_type": "code",
   "execution_count": 25,
   "metadata": {},
   "outputs": [
    {
     "name": "stdin",
     "output_type": "stream",
     "text": [
      " 5 3\n",
      " 1 2 2 4 5\n"
     ]
    }
   ],
   "source": [
    "N, K = map(int, input().split())\n",
    "P = input().replace(' ', '')"
   ]
  },
  {
   "cell_type": "code",
   "execution_count": 26,
   "metadata": {},
   "outputs": [
    {
     "data": {
      "text/plain": [
       "'12245'"
      ]
     },
     "execution_count": 26,
     "metadata": {},
     "output_type": "execute_result"
    }
   ],
   "source": [
    "P"
   ]
  },
  {
   "cell_type": "code",
   "execution_count": 23,
   "metadata": {},
   "outputs": [
    {
     "ename": "TypeError",
     "evalue": "'int' object is not subscriptable",
     "output_type": "error",
     "traceback": [
      "\u001b[0;31m---------------------------------------------------------------------------\u001b[0m",
      "\u001b[0;31mTypeError\u001b[0m                                 Traceback (most recent call last)",
      "\u001b[0;32m<ipython-input-23-441610e8c931>\u001b[0m in \u001b[0;36m<module>\u001b[0;34m\u001b[0m\n\u001b[1;32m      1\u001b[0m \u001b[0;32mfor\u001b[0m \u001b[0mi\u001b[0m \u001b[0;32min\u001b[0m \u001b[0mrange\u001b[0m\u001b[0;34m(\u001b[0m\u001b[0mN\u001b[0m\u001b[0;34m-\u001b[0m\u001b[0;36m2\u001b[0m\u001b[0;34m)\u001b[0m\u001b[0;34m:\u001b[0m\u001b[0;34m\u001b[0m\u001b[0;34m\u001b[0m\u001b[0m\n\u001b[0;32m----> 2\u001b[0;31m     \u001b[0mP\u001b[0m\u001b[0;34m[\u001b[0m\u001b[0mi\u001b[0m\u001b[0;34m:\u001b[0m\u001b[0mi\u001b[0m\u001b[0;34m+\u001b[0m\u001b[0mK\u001b[0m\u001b[0;34m]\u001b[0m\u001b[0;34m\u001b[0m\u001b[0;34m\u001b[0m\u001b[0m\n\u001b[0m",
      "\u001b[0;31mTypeError\u001b[0m: 'int' object is not subscriptable"
     ]
    }
   ],
   "source": [
    "for i in range(N-2):\n",
    "    P[i:i+K]"
   ]
  },
  {
   "cell_type": "code",
   "execution_count": null,
   "metadata": {},
   "outputs": [],
   "source": []
  }
 ],
 "metadata": {
  "kernelspec": {
   "display_name": "Python 3",
   "language": "python",
   "name": "python3"
  },
  "language_info": {
   "codemirror_mode": {
    "name": "ipython",
    "version": 3
   },
   "file_extension": ".py",
   "mimetype": "text/x-python",
   "name": "python",
   "nbconvert_exporter": "python",
   "pygments_lexer": "ipython3",
   "version": "3.8.5"
  }
 },
 "nbformat": 4,
 "nbformat_minor": 4
}
