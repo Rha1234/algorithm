{
 "cells": [
  {
   "cell_type": "code",
   "execution_count": 15,
   "metadata": {},
   "outputs": [],
   "source": [
    "def start_time():\n",
    "    start = time.time()\n",
    "    print('スタート:', start)\n",
    "    return start\n",
    "    \n",
    "def end_time():\n",
    "    end = time.time()\n",
    "    print('エンド:', end)\n",
    "    return end\n",
    "\n",
    "def required_time(start, end):\n",
    "    time_delta = end - start\n",
    "    print('時間差分:', time_delta)"
   ]
  },
  {
   "cell_type": "code",
   "execution_count": 37,
   "metadata": {},
   "outputs": [
    {
     "name": "stdout",
     "output_type": "stream",
     "text": [
      "[1, 2, [7, 8], 3, 4, 5, [9, 10], 6, [11]]\n"
     ]
    }
   ],
   "source": [
    "seq = [\n",
    "    [1, 2, [7, 8]], [3, 4, 5, [9, 10]], [6, [11]]\n",
    "]\n",
    "\n",
    "seq2 = sum(seq, [])\n",
    "\n",
    "print(seq2)"
   ]
  },
  {
   "cell_type": "code",
   "execution_count": 41,
   "metadata": {},
   "outputs": [],
   "source": [
    "import collections\n",
    "\n",
    "def flatten(l):\n",
    "    for el in l:\n",
    "        if isinstance(el, collections.abc.Iterable) and not isinstance(el, (str, bytes)):\n",
    "            yield from flatten(el)\n",
    "        else:\n",
    "            yield el"
   ]
  },
  {
   "cell_type": "code",
   "execution_count": 42,
   "metadata": {},
   "outputs": [
    {
     "data": {
      "text/plain": [
       "[1, 2, 7, 8, 3, 4, 5, 9, 10, 6, 11]"
      ]
     },
     "execution_count": 42,
     "metadata": {},
     "output_type": "execute_result"
    }
   ],
   "source": [
    "list(flatten(seq))"
   ]
  },
  {
   "cell_type": "code",
   "execution_count": 43,
   "metadata": {},
   "outputs": [
    {
     "name": "stdout",
     "output_type": "stream",
     "text": [
      "1\n",
      "2\n",
      "3\n",
      "4\n",
      "finished\n",
      "hello\n"
     ]
    }
   ],
   "source": [
    "def sample_geniter():\n",
    "    yield from [1, 2, 3, 4]\n",
    "    print('finished')\n",
    "\n",
    "for num in sample_geniter():\n",
    "    print(num)\n",
    "\n",
    "print('hello')"
   ]
  },
  {
   "cell_type": "code",
   "execution_count": 57,
   "metadata": {},
   "outputs": [
    {
     "name": "stdout",
     "output_type": "stream",
     "text": [
      "1\n",
      "2\n",
      "3\n",
      "5\n",
      "finish\n"
     ]
    }
   ],
   "source": [
    "def test(l):\n",
    "    yield from l\n",
    "    print('finish')\n",
    "\n",
    "for el in test([1,2,3,5]):\n",
    "    print(el)"
   ]
  },
  {
   "cell_type": "markdown",
   "metadata": {},
   "source": [
    "## 一次元配列を与えたらすべての要素を奇数になるまで割り算する"
   ]
  },
  {
   "cell_type": "code",
   "execution_count": 109,
   "metadata": {},
   "outputs": [],
   "source": [
    "seq = [1, 2, 3, 4, 5, 6, 7, 8, 9, 10, 11, 12]"
   ]
  },
  {
   "cell_type": "markdown",
   "metadata": {},
   "source": [
    "### ジェネレータで実装"
   ]
  },
  {
   "cell_type": "code",
   "execution_count": 111,
   "metadata": {},
   "outputs": [],
   "source": [
    "from typing import *\n",
    "\n",
    "def divine_number(l: List[int]):\n",
    "    for el in l:\n",
    "        if el % 2 == 0:\n",
    "            while el % 2 == 0:\n",
    "                el = el // 2\n",
    "            yield el\n",
    "        else:\n",
    "            yield el"
   ]
  },
  {
   "cell_type": "code",
   "execution_count": 112,
   "metadata": {},
   "outputs": [
    {
     "data": {
      "text/plain": [
       "[1, 1, 3, 1, 5, 3, 7, 1, 9, 5, 11, 3]"
      ]
     },
     "execution_count": 112,
     "metadata": {},
     "output_type": "execute_result"
    }
   ],
   "source": [
    "list(divine_number(seq))"
   ]
  },
  {
   "cell_type": "code",
   "execution_count": null,
   "metadata": {},
   "outputs": [],
   "source": []
  }
 ],
 "metadata": {
  "kernelspec": {
   "display_name": "Python 3",
   "language": "python",
   "name": "python3"
  },
  "language_info": {
   "codemirror_mode": {
    "name": "ipython",
    "version": 3
   },
   "file_extension": ".py",
   "mimetype": "text/x-python",
   "name": "python",
   "nbconvert_exporter": "python",
   "pygments_lexer": "ipython3",
   "version": "3.8.5"
  }
 },
 "nbformat": 4,
 "nbformat_minor": 4
}
